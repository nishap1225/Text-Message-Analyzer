{
  "nbformat": 4,
  "nbformat_minor": 0,
  "metadata": {
    "colab": {
      "name": "Text Message Analyzer.ipynb",
      "provenance": [],
      "collapsed_sections": [],
      "include_colab_link": true
    },
    "kernelspec": {
      "name": "python3",
      "display_name": "Python 3"
    },
    "accelerator": "GPU"
  },
  "cells": [
    {
      "cell_type": "markdown",
      "metadata": {
        "id": "view-in-github",
        "colab_type": "text"
      },
      "source": [
        "<a href=\"https://colab.research.google.com/github/nishap1225/Text-Message-Analyzer/blob/master/Text_Message_Analyzer-Colab.ipynb\" target=\"_parent\"><img src=\"https://colab.research.google.com/assets/colab-badge.svg\" alt=\"Open In Colab\"/></a>"
      ]
    },
    {
      "cell_type": "markdown",
      "metadata": {
        "id": "hWmR1-k_erdc",
        "colab_type": "text"
      },
      "source": [
        "#Text Message Analyzer"
      ]
    },
    {
      "cell_type": "markdown",
      "metadata": {
        "id": "wc8OK27-HMGv",
        "colab_type": "text"
      },
      "source": [
        "This summer, we used our text messages as our dataset and Google's pretrained NLP model BERT to help us analyze our data in several different ways. We started off by using BERT embeddings and scikit-learn in order to classify our text messages by author. Then, we used T-SNE to visualize the embeddings and see how our conversations were affected by COVID-19."
      ]
    },
    {
      "cell_type": "markdown",
      "metadata": {
        "id": "hk91ucf0HTVo",
        "colab_type": "text"
      },
      "source": [
        "##Part 1: Text Message Classification"
      ]
    },
    {
      "cell_type": "markdown",
      "metadata": {
        "id": "oyMJhfECfXgY",
        "colab_type": "text"
      },
      "source": [
        "This colab notebook trains a DistilBERT model with our texts; the model is then used to predict which of us wrote a given text.  "
      ]
    },
    {
      "cell_type": "markdown",
      "metadata": {
        "id": "DgbQSdZ1kLY5",
        "colab_type": "text"
      },
      "source": [
        "### 1. Importing packages and libraries\n",
        "\n"
      ]
    },
    {
      "cell_type": "markdown",
      "metadata": {
        "id": "uqX9CES_fie8",
        "colab_type": "text"
      },
      "source": [
        "We used transformers in order to use the DistilBert model, as well as several libraries including Pytorch, numpy, scikit and pandas.\n",
        "\n",
        "\n"
      ]
    },
    {
      "cell_type": "code",
      "metadata": {
        "id": "6B4jw9szVoCE",
        "colab_type": "code",
        "colab": {}
      },
      "source": [
        "!pip install transformers"
      ],
      "execution_count": null,
      "outputs": []
    },
    {
      "cell_type": "code",
      "metadata": {
        "id": "PMF9q84YVxIn",
        "colab_type": "code",
        "colab": {}
      },
      "source": [
        "import numpy as np\n",
        "import pandas as pd\n",
        "from sklearn.model_selection import train_test_split\n",
        "from sklearn.linear_model import LogisticRegression\n",
        "from sklearn.model_selection import GridSearchCV\n",
        "from sklearn.model_selection import cross_val_score\n",
        "import torch\n",
        "import transformers as ppb\n",
        "import warnings\n",
        "warnings.filterwarnings('ignore')\n",
        "from google.colab import files\n",
        "from datetime import datetime as datetime\n",
        "import io"
      ],
      "execution_count": null,
      "outputs": []
    },
    {
      "cell_type": "markdown",
      "metadata": {
        "id": "G8GbrKbZkQPt",
        "colab_type": "text"
      },
      "source": [
        "###2. Uploading and processing data files "
      ]
    },
    {
      "cell_type": "markdown",
      "metadata": {
        "id": "kdDejsCGgKiz",
        "colab_type": "text"
      },
      "source": [
        "**Here**, we upload Reena's text messages .csv file (which was obtained from iMessage), and reading it into a pandas dataframe. Additionally, we add a column called *sender* which has all values set to 0 to signify that these are Reena's texts. \n",
        "\n",
        "NOTE: We chose to upload the data sets from our local computers because the contents (our text messages) are private. "
      ]
    },
    {
      "cell_type": "code",
      "metadata": {
        "id": "UfnQU6UNWCQP",
        "colab_type": "code",
        "colab": {}
      },
      "source": [
        "uploaded_reena = files.upload()"
      ],
      "execution_count": null,
      "outputs": []
    },
    {
      "cell_type": "code",
      "metadata": {
        "id": "GPNe7lyhV79b",
        "colab_type": "code",
        "colab": {}
      },
      "source": [
        "df_reena = pd.read_csv(io.StringIO(uploaded_reena['onlyreena.csv'].decode('utf-8', 'ignore')), error_bad_lines=False, names=['text', 'date'])\n",
        "df_reena['sender'] = [0]*len(df_reena.index)\n",
        "df_reena.head() #This prints the first few lines of the dataframe to confirm the formatting is correct. "
      ],
      "execution_count": null,
      "outputs": []
    },
    {
      "cell_type": "markdown",
      "metadata": {
        "id": "t9SFvy_H5vyi",
        "colab_type": "text"
      },
      "source": [
        "Since images were saved as a string of length 1, we had to go through each text and drop texts that did not have the content we wanted."
      ]
    },
    {
      "cell_type": "code",
      "metadata": {
        "id": "qihyW-UX5UoG",
        "colab_type": "code",
        "colab": {}
      },
      "source": [
        "dropped = []\n",
        "for index, row in df_reena.iterrows():\n",
        "  if len(row['text']) == 1:\n",
        "    dropped.append(index)\n",
        "\n",
        "df_reena = df_reena.drop(dropped)"
      ],
      "execution_count": null,
      "outputs": []
    },
    {
      "cell_type": "code",
      "metadata": {
        "id": "QedHY8SCkDOt",
        "colab_type": "code",
        "colab": {}
      },
      "source": [
        "df_reena['date'] = df_reena['date'].apply(lambda x: pd.to_datetime(x))"
      ],
      "execution_count": null,
      "outputs": []
    },
    {
      "cell_type": "markdown",
      "metadata": {
        "id": "8UDNcZvUgsaR",
        "colab_type": "text"
      },
      "source": [
        "Next, we upload a .json file containing all of Nisha's text messages. The file was downloaded from Facebook Messenger. Because of the abnormal format of the file, more cleaning had to be done. "
      ]
    },
    {
      "cell_type": "code",
      "metadata": {
        "id": "RH4XDv49ctsG",
        "colab_type": "code",
        "colab": {
          "resources": {
            "http://localhost:8080/nbextensions/google.colab/files.js": {
              "data": "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",
              "ok": true,
              "headers": [
                [
                  "content-type",
                  "application/javascript"
                ]
              ],
              "status": 200,
              "status_text": ""
            }
          },
          "base_uri": "https://localhost:8080/",
          "height": 72
        },
        "outputId": "0f2d9dfe-ad24-40c6-98d3-e52e1c42565a"
      },
      "source": [
        "uploaded_nisha = files.upload()"
      ],
      "execution_count": null,
      "outputs": [
        {
          "output_type": "display_data",
          "data": {
            "text/html": [
              "\n",
              "     <input type=\"file\" id=\"files-ce0e5c68-4863-4029-9c93-38ffb8865607\" name=\"files[]\" multiple disabled\n",
              "        style=\"border:none\" />\n",
              "     <output id=\"result-ce0e5c68-4863-4029-9c93-38ffb8865607\">\n",
              "      Upload widget is only available when the cell has been executed in the\n",
              "      current browser session. Please rerun this cell to enable.\n",
              "      </output>\n",
              "      <script src=\"/nbextensions/google.colab/files.js\"></script> "
            ],
            "text/plain": [
              "<IPython.core.display.HTML object>"
            ]
          },
          "metadata": {
            "tags": []
          }
        },
        {
          "output_type": "stream",
          "text": [
            "Saving merged_file.json to merged_file (1).json\n"
          ],
          "name": "stdout"
        }
      ]
    },
    {
      "cell_type": "markdown",
      "metadata": {
        "id": "tvUyYRn5jb2I",
        "colab_type": "text"
      },
      "source": [
        "Clean is a helper method that deletes all uneccessary information from the .json file such as the reactions on a given message and what photos were sent. "
      ]
    },
    {
      "cell_type": "code",
      "metadata": {
        "id": "FassZEPUiqel",
        "colab_type": "code",
        "colab": {}
      },
      "source": [
        "def clean(dic): \n",
        "  dic.pop(\"type\", None)\n",
        "  dic.pop(\"reactions\", None)\n",
        "  dic.pop(\"share\", None)\n",
        "  dic.pop(\"ip\", None)\n",
        "  dic.pop(\"sticker\", None)\n",
        "  dic.pop(\"photos\", None)\n",
        "  dic.pop(\"users\", None)\n",
        "  dic.pop(\"call_duration\", None)\n",
        "  dic.pop(\"videos\", None)\n",
        "  dic.pop(\"gifs\", None)\n",
        "  dic.pop(\"files\", None)\n",
        "  dic.pop('missed', None)\n",
        "  dic.pop(\"audio_files\", None)"
      ],
      "execution_count": null,
      "outputs": []
    },
    {
      "cell_type": "markdown",
      "metadata": {
        "id": "6WPaSA8PhIsA",
        "colab_type": "text"
      },
      "source": [
        "We read the contents of the .json file into a list called data. This method processes the dictionaries from data[1] ... the last element. In it, we delete all the extraneous data that the .json file gave us using the *clean* method. Also, we filtered to only include texts that Nisha sent. "
      ]
    },
    {
      "cell_type": "code",
      "metadata": {
        "id": "6m3W1KHQds4d",
        "colab_type": "code",
        "colab": {}
      },
      "source": [
        "def addtoDf(dic, all): # all is True if we want all of the texts, and all is false if we want my texts \n",
        "  del dic['participants']\n",
        "  del dic['title']\n",
        "  del dic['is_still_participant']\n",
        "  del dic['thread_type']\n",
        "  del dic['thread_path']\n",
        "\n",
        "  end = []\n",
        "\n",
        "  for element in dic['messages']: \n",
        "    clean(element)\n",
        "    if all: \n",
        "      if(element[\"sender_name\"] == \"Nisha Prabhakar\"): \n",
        "        element.pop(\"sender_name\")\n",
        "        end.append(element)\n",
        "    else:\n",
        "      element.pop(\"sender_name\")\n",
        "      end.append(element) \n",
        "  \n",
        "  with open(\"memory.json\", \"w\") as write_file:\n",
        "    json.dump(end, write_file)\n",
        "\n",
        "  return pd.read_json('memory.json')"
      ],
      "execution_count": null,
      "outputs": []
    },
    {
      "cell_type": "markdown",
      "metadata": {
        "id": "iB1y7zMDh-LZ",
        "colab_type": "text"
      },
      "source": [
        "This method is called on the dictionaries in data[0]. Because the dictionary format is slightly different, we had to build a separate method to process it. It does roughly the same thing as *addtoDf*."
      ]
    },
    {
      "cell_type": "code",
      "metadata": {
        "id": "D4jQcv3LfI2-",
        "colab_type": "code",
        "colab": {}
      },
      "source": [
        "def addtoDfFirst(dic, all):\n",
        "  clean(dic)\n",
        "  \n",
        "  if (all and dic['sender_name'] != \"Nisha Prabhakar\"):\n",
        "    return pd.DataFrame() \n",
        "\n",
        "  with open(\"memory.json\", \"w\") as write_file:\n",
        "    json.dump(dic, write_file)\n",
        "\n",
        "  return pd.read_json('memory.json', typ='series')"
      ],
      "execution_count": null,
      "outputs": []
    },
    {
      "cell_type": "markdown",
      "metadata": {
        "id": "_kjNp3IMhPOf",
        "colab_type": "text"
      },
      "source": [
        "This is the overarching procedure to clean the file uploaded_nisha and create one pandas dataframe that contains the data. When the data was loaded, we received a list (called data). The first element of data was a list itself, whose elements were dictionaries. On the other hand, the second element of data through the last element were dictionaries.   "
      ]
    },
    {
      "cell_type": "code",
      "metadata": {
        "id": "U9p6O1QifNbI",
        "colab_type": "code",
        "colab": {}
      },
      "source": [
        "import json\n",
        "with open('merged_file.json') as json_data:\n",
        "  data = json.load(json_data)\n",
        "  df_nisha = pd.DataFrame() \n",
        "  for dictionary in data[0]:     \n",
        "    df_new = addtoDfFirst(dictionary, False)\n",
        "    df = df_nisha.append(df_new, ignore_index=True)\n",
        "    df_nisha = df\n",
        "  for i in range(1, len(data)): \n",
        "    df_new = addtoDf(data[i], False)\n",
        "    df = df_nisha.append(df_new, ignore_index=True)\n",
        "    df_nisha = df"
      ],
      "execution_count": null,
      "outputs": []
    },
    {
      "cell_type": "markdown",
      "metadata": {
        "id": "VWNT17eRj1c_",
        "colab_type": "text"
      },
      "source": [
        "In order to match the formats of **df_reena** and **df_nisha**, we deleted the \"sender_name\" column and created a new column of all 1's, which identified the texts as being written by Nisha. Additionally, we changed the other two column names to match **df_reena**."
      ]
    },
    {
      "cell_type": "code",
      "metadata": {
        "id": "r-xjEiOnfOL6",
        "colab_type": "code",
        "colab": {}
      },
      "source": [
        "del df_nisha['sender_name']\n",
        "df_nisha['sender'] = [1]*len(df_nisha.index)\n",
        "df_nisha.columns=['text', 'date', 'sender']\n",
        "df_nisha.head()"
      ],
      "execution_count": null,
      "outputs": []
    },
    {
      "cell_type": "markdown",
      "metadata": {
        "id": "xz97BH4rlSZB",
        "colab_type": "text"
      },
      "source": [
        "Since there were some irregularities in Nisha's message file (some of the text messages were not of the String datatype), we iterated through each text and deleted the offending texts. "
      ]
    },
    {
      "cell_type": "code",
      "metadata": {
        "id": "QyEanBLOkCZ8",
        "colab_type": "code",
        "colab": {}
      },
      "source": [
        "df_nisha = df_nisha[11:]\n",
        "dropped = []\n",
        "for index, row in df_nisha.iterrows():\n",
        "  if not isinstance(row['text'], str):\n",
        "    dropped.append(index)\n",
        "\n",
        "df_nisha = df_nisha.drop(dropped)\n",
        "df_nisha=df_nisha.sort_values(by=['date'])\n",
        "df_nisha.head() #This prints the first few lines of the dataframe to confirm the formatting is correct. "
      ],
      "execution_count": null,
      "outputs": []
    },
    {
      "cell_type": "code",
      "metadata": {
        "id": "2IVe4XZ7_Wgy",
        "colab_type": "code",
        "colab": {
          "base_uri": "https://localhost:8080/",
          "height": 34
        },
        "outputId": "d75c0f07-436d-46b2-ce28-8944b008b4aa"
      },
      "source": [
        "type(df_nisha['date'][32046])"
      ],
      "execution_count": null,
      "outputs": [
        {
          "output_type": "execute_result",
          "data": {
            "text/plain": [
              "pandas._libs.tslibs.timestamps.Timestamp"
            ]
          },
          "metadata": {
            "tags": []
          },
          "execution_count": 26
        }
      ]
    },
    {
      "cell_type": "markdown",
      "metadata": {
        "id": "rSSbbaNUl-j_",
        "colab_type": "text"
      },
      "source": [
        "For performance purposes we only used the most recent 2000 texts. We also concatenated **df_nisha** and **df_reena** and sorted the resulting df_total by date. "
      ]
    },
    {
      "cell_type": "code",
      "metadata": {
        "id": "REmndBGlhleW",
        "colab_type": "code",
        "colab": {}
      },
      "source": [
        "df_nisha_short = df_nisha[-2000:]\n",
        "df_reena_short = df_reena[-2000:]\n",
        "df = df_reena_short.append(df_nisha_short, ignore_index=True)\n",
        "df_total = df_reena.append(df_nisha, ignore_index=True)\n",
        "#del df['date']"
      ],
      "execution_count": null,
      "outputs": []
    },
    {
      "cell_type": "code",
      "metadata": {
        "id": "HAur_LezER7A",
        "colab_type": "code",
        "colab": {}
      },
      "source": [
        "df_total.head()"
      ],
      "execution_count": null,
      "outputs": []
    },
    {
      "cell_type": "code",
      "metadata": {
        "id": "F1fDrDEqMjIX",
        "colab_type": "code",
        "colab": {}
      },
      "source": [
        "df_total=df_total.sort_values(by=['date'])"
      ],
      "execution_count": null,
      "outputs": []
    },
    {
      "cell_type": "code",
      "metadata": {
        "id": "TPSheUxSMpC1",
        "colab_type": "code",
        "colab": {}
      },
      "source": [
        "df_total.head()"
      ],
      "execution_count": null,
      "outputs": []
    },
    {
      "cell_type": "markdown",
      "metadata": {
        "id": "Lst0KIXy9Z3A",
        "colab_type": "text"
      },
      "source": [
        "###3. Extracting DistilBert Embeddings"
      ]
    },
    {
      "cell_type": "markdown",
      "metadata": {
        "id": "JyvH1LOdmfMt",
        "colab_type": "text"
      },
      "source": [
        " We followed this [tutorial](https://jalammar.github.io/a-visual-guide-to-using-bert-for-the-first-time/) by Jay Alammar for the DistilBERT analysis. "
      ]
    },
    {
      "cell_type": "markdown",
      "metadata": {
        "id": "GHv3Ei0_m4e4",
        "colab_type": "text"
      },
      "source": [
        "We began by loading in the DistilBERT model and other relevant classes. "
      ]
    },
    {
      "cell_type": "code",
      "metadata": {
        "id": "t_QDxwfuYnk-",
        "colab_type": "code",
        "colab": {}
      },
      "source": [
        "# For DistilBERT:\n",
        "model_class, tokenizer_class, pretrained_weights = (ppb.DistilBertModel, ppb.DistilBertTokenizer, 'distilbert-base-uncased')\n",
        "\n",
        "# Load pretrained model/tokenizer\n",
        "tokenizer = tokenizer_class.from_pretrained(pretrained_weights)\n",
        "model = model_class.from_pretrained(pretrained_weights)"
      ],
      "execution_count": null,
      "outputs": []
    },
    {
      "cell_type": "markdown",
      "metadata": {
        "id": "QQ3LJm3UnGoG",
        "colab_type": "text"
      },
      "source": [
        "This method completely encodes all of the texts. After adding the special \"[CLS]\" and \"[SEP]\" tokens at the beginning and end of the texts, we tokenized the texts. The tokenizer splits up words that are not in its default dictionary into smaller parts and assigns them their associated ID. Although initially we chose to maximize the length of our tokenized text array (512), this caused extracting the embeddings to use far too much RAM. We realized that only 6 of texts had more than 50 tokens, so we decided to set 50 as the maximum length of a tokenized text message. "
      ]
    },
    {
      "cell_type": "code",
      "metadata": {
        "id": "mFPecIIQ6RLw",
        "colab_type": "code",
        "colab": {}
      },
      "source": [
        "def modified_encoder(x):\n",
        "  marked_text = \"[CLS] \" + x + \" [SEP]\"\n",
        "  tokenized_text = tokenizer.tokenize(marked_text)\n",
        "  indexed_tokens = tokenizer.convert_tokens_to_ids(tokenized_text[:50])\n",
        "  return indexed_tokens"
      ],
      "execution_count": null,
      "outputs": []
    },
    {
      "cell_type": "markdown",
      "metadata": {
        "id": "qpF1qwFdoEJP",
        "colab_type": "text"
      },
      "source": [
        "We applied the *modified_encoder* function to every string in the **text** column of **df**. "
      ]
    },
    {
      "cell_type": "code",
      "metadata": {
        "id": "FOo7EIH4YokS",
        "colab_type": "code",
        "colab": {}
      },
      "source": [
        "tokenized = df['text'].apply(modified_encoder)"
      ],
      "execution_count": null,
      "outputs": []
    },
    {
      "cell_type": "code",
      "metadata": {
        "id": "cPE9OMISJ9yz",
        "colab_type": "code",
        "colab": {
          "base_uri": "https://localhost:8080/",
          "height": 34
        },
        "outputId": "83943e86-5708-4ef2-f60e-a417b2dbe5ad"
      },
      "source": [
        "type(tokenized.to_numpy())"
      ],
      "execution_count": null,
      "outputs": [
        {
          "output_type": "execute_result",
          "data": {
            "text/plain": [
              "numpy.ndarray"
            ]
          },
          "metadata": {
            "tags": []
          },
          "execution_count": 24
        }
      ]
    },
    {
      "cell_type": "markdown",
      "metadata": {
        "id": "WgqvR5_aoWF6",
        "colab_type": "text"
      },
      "source": [
        "Here, we convert our list of tokenized texts (each text is represented as a list) into a two dimensional numpy array. This allows us to calculate the embeddings of all the texts at once. "
      ]
    },
    {
      "cell_type": "code",
      "metadata": {
        "id": "_HG31CvP4ePa",
        "colab_type": "code",
        "colab": {}
      },
      "source": [
        "max_len = 0\n",
        "for i in tokenized.values:\n",
        "    if len(i) > max_len:\n",
        "        max_len = len(i)\n",
        "\n",
        "padded = np.array([i + [0]*(max_len-len(i)) for i in tokenized.values])"
      ],
      "execution_count": null,
      "outputs": []
    },
    {
      "cell_type": "code",
      "metadata": {
        "id": "oZ3XiZjQ4-Jk",
        "colab_type": "code",
        "colab": {
          "base_uri": "https://localhost:8080/",
          "height": 34
        },
        "outputId": "a0ed38f5-4efb-476c-b9ee-4f5035e8dbe2"
      },
      "source": [
        "np.array(padded).shape #A size of 4000 x 50 for our array padded makes sense because we set our maximum tokenized text length to be 50. "
      ],
      "execution_count": null,
      "outputs": [
        {
          "output_type": "execute_result",
          "data": {
            "text/plain": [
              "(4000, 50)"
            ]
          },
          "metadata": {
            "tags": []
          },
          "execution_count": 26
        }
      ]
    },
    {
      "cell_type": "markdown",
      "metadata": {
        "id": "NAymmhDMpAmx",
        "colab_type": "text"
      },
      "source": [
        "Our array **padded** is a uniform array where each text is represented by an array of integers of size 50. However, we need to tell BERT to ignore the extra 0's padded onto texts whose length is less than 50, so we created an array of integers called the **attention_mask**."
      ]
    },
    {
      "cell_type": "code",
      "metadata": {
        "id": "Jk0-GWy187lA",
        "colab_type": "code",
        "colab": {
          "base_uri": "https://localhost:8080/",
          "height": 34
        },
        "outputId": "3bd5a555-1479-4de1-f8f4-9424057a5751"
      },
      "source": [
        "attention_mask = np.where(padded != 0, 1, 0)\n",
        "attention_mask.shape #The attention mask has the same shape as the padded array. "
      ],
      "execution_count": null,
      "outputs": [
        {
          "output_type": "execute_result",
          "data": {
            "text/plain": [
              "(4000, 50)"
            ]
          },
          "metadata": {
            "tags": []
          },
          "execution_count": 27
        }
      ]
    },
    {
      "cell_type": "markdown",
      "metadata": {
        "id": "rbStUapFpmdD",
        "colab_type": "text"
      },
      "source": [
        "We retrieve the embeddings from the model by converting **padded** and **attention_mask** into tensors and passing them into our model."
      ]
    },
    {
      "cell_type": "code",
      "metadata": {
        "id": "65hBohyW9Ate",
        "colab_type": "code",
        "colab": {}
      },
      "source": [
        "input_ids = torch.tensor(padded)  \n",
        "attention_mask = torch.tensor(attention_mask)\n",
        "with torch.no_grad():\n",
        "    last_hidden_states = model(input_ids, attention_mask=attention_mask)"
      ],
      "execution_count": null,
      "outputs": []
    },
    {
      "cell_type": "markdown",
      "metadata": {
        "id": "MckqzJoK9x_w",
        "colab_type": "text"
      },
      "source": [
        "###4. Creating and training scikit model"
      ]
    },
    {
      "cell_type": "markdown",
      "metadata": {
        "id": "6yDG_c4kp0Bf",
        "colab_type": "text"
      },
      "source": [
        "We currently have embeddings for each word in each text. We use the first element of **last_hidden_states**, which is the last layer of the neural network. <br>\n",
        "In order to consolidate this data into one embedding for each text, we use the embedding for the \"[CLS]\" token, which is the first token and often used to represent the sentence as a whole."
      ]
    },
    {
      "cell_type": "code",
      "metadata": {
        "id": "MjeLcd9E9EV-",
        "colab_type": "code",
        "colab": {}
      },
      "source": [
        "features = last_hidden_states[0][:,0,:].numpy()"
      ],
      "execution_count": null,
      "outputs": []
    },
    {
      "cell_type": "markdown",
      "metadata": {
        "id": "jHA_giGYqrBm",
        "colab_type": "text"
      },
      "source": [
        "Here we split our data into training and testing data.\n"
      ]
    },
    {
      "cell_type": "code",
      "metadata": {
        "id": "-ET7dS5G9FRA",
        "colab_type": "code",
        "colab": {}
      },
      "source": [
        "labels = df['sender']\n",
        "train_features, test_features, train_labels, test_labels = train_test_split(features, labels)"
      ],
      "execution_count": null,
      "outputs": []
    },
    {
      "cell_type": "markdown",
      "metadata": {
        "id": "TtHC0ctvrFdh",
        "colab_type": "text"
      },
      "source": [
        "We fit the model to our data."
      ]
    },
    {
      "cell_type": "code",
      "metadata": {
        "id": "IITbCAOuimfv",
        "colab_type": "code",
        "colab": {
          "base_uri": "https://localhost:8080/",
          "height": 102
        },
        "outputId": "140a3a6b-99a7-4090-ed49-375fb16360b1"
      },
      "source": [
        "lr_clf = LogisticRegression()\n",
        "lr_clf.fit(train_features, train_labels)"
      ],
      "execution_count": null,
      "outputs": [
        {
          "output_type": "execute_result",
          "data": {
            "text/plain": [
              "LogisticRegression(C=1.0, class_weight=None, dual=False, fit_intercept=True,\n",
              "                   intercept_scaling=1, l1_ratio=None, max_iter=100,\n",
              "                   multi_class='auto', n_jobs=None, penalty='l2',\n",
              "                   random_state=None, solver='lbfgs', tol=0.0001, verbose=0,\n",
              "                   warm_start=False)"
            ]
          },
          "metadata": {
            "tags": []
          },
          "execution_count": 33
        }
      ]
    },
    {
      "cell_type": "markdown",
      "metadata": {
        "id": "EdaDhZ-irJ6z",
        "colab_type": "text"
      },
      "source": [
        "We used *test_features* and *test_labels* to see how well our model scored against the testing data. It does fairly well, with an accuracy of about 81.4%. "
      ]
    },
    {
      "cell_type": "code",
      "metadata": {
        "id": "U2TOhCE9ivV8",
        "colab_type": "code",
        "colab": {
          "base_uri": "https://localhost:8080/",
          "height": 34
        },
        "outputId": "f78e54d4-9cd5-4927-ae91-f85449f5db0d"
      },
      "source": [
        "lr_clf.score(test_features, test_labels)"
      ],
      "execution_count": null,
      "outputs": [
        {
          "output_type": "execute_result",
          "data": {
            "text/plain": [
              "0.807"
            ]
          },
          "metadata": {
            "tags": []
          },
          "execution_count": 34
        }
      ]
    },
    {
      "cell_type": "markdown",
      "metadata": {
        "id": "4W2mhWfU-GAm",
        "colab_type": "text"
      },
      "source": [
        "###5. Testing our model with inputs"
      ]
    },
    {
      "cell_type": "markdown",
      "metadata": {
        "id": "o40JBGuarctD",
        "colab_type": "text"
      },
      "source": [
        "*prepare* converts a text string to its embeddings. This is necessary to prepare the texts to feed into our model, which is based on vectors, not strings.\n",
        "\n"
      ]
    },
    {
      "cell_type": "code",
      "metadata": {
        "id": "U4rsAPkyjsQk",
        "colab_type": "code",
        "colab": {}
      },
      "source": [
        "def prepare(x):\n",
        "  tokenized = tokenizer.encode(x, add_special_tokens=True)\n",
        "  input_ids = torch.tensor([tokenized])  \n",
        "  with torch.no_grad():\n",
        "    last_hidden_states = model(input_ids)\n",
        "  return last_hidden_states[0][0][0].unsqueeze(0).numpy()"
      ],
      "execution_count": null,
      "outputs": []
    },
    {
      "cell_type": "markdown",
      "metadata": {
        "id": "mM_3tQPPsJ9t",
        "colab_type": "text"
      },
      "source": [
        "*guess* calls on our model to predict who wrote the given text, and then interprets the integer returned back to a string with the person's name."
      ]
    },
    {
      "cell_type": "code",
      "metadata": {
        "id": "kAcAs7GGrek7",
        "colab_type": "code",
        "colab": {}
      },
      "source": [
        "def guess():\n",
        "  x = input(\"Enter a text!\")\n",
        "  sender = lr_clf.predict(prepare(x))[0]\n",
        "  if sender == 1:\n",
        "    return 'nisha'\n",
        "  else:\n",
        "    return 'reena'"
      ],
      "execution_count": null,
      "outputs": []
    },
    {
      "cell_type": "code",
      "metadata": {
        "id": "ICl8BGZJ0YJj",
        "colab_type": "code",
        "colab": {}
      },
      "source": [
        "guess()"
      ],
      "execution_count": null,
      "outputs": []
    },
    {
      "cell_type": "markdown",
      "metadata": {
        "id": "lJH8fi-7E7tA",
        "colab_type": "text"
      },
      "source": [
        "##Part 2: Visualizing Bert Embeddings"
      ]
    },
    {
      "cell_type": "markdown",
      "metadata": {
        "id": "B-fUfHZ-Hw6-",
        "colab_type": "text"
      },
      "source": [
        "Here, we used T-SNE in order to reduce the length of our embeddings from length 768 to 2. This way we were able to visualize our sentence embeddings by plotting them on a 2-D graph."
      ]
    },
    {
      "cell_type": "markdown",
      "metadata": {
        "id": "jNzY6RvbILeJ",
        "colab_type": "text"
      },
      "source": [
        "###1. Importing packages and libraries"
      ]
    },
    {
      "cell_type": "markdown",
      "metadata": {
        "id": "EY3FP_csIUFb",
        "colab_type": "text"
      },
      "source": [
        "We used the ski-kit machine learning library for TSNE and matplotlib to graph our points."
      ]
    },
    {
      "cell_type": "code",
      "metadata": {
        "id": "lxOYjsu-EhH8",
        "colab_type": "code",
        "colab": {}
      },
      "source": [
        "from sklearn.manifold import TSNE\n",
        "import matplotlib.pyplot as plt\n",
        "from matplotlib.pyplot import figure"
      ],
      "execution_count": null,
      "outputs": []
    },
    {
      "cell_type": "markdown",
      "metadata": {
        "id": "OazYJ2YuIhxY",
        "colab_type": "text"
      },
      "source": [
        "###2. Splitting up our dataset"
      ]
    },
    {
      "cell_type": "markdown",
      "metadata": {
        "id": "gnt39McCIo9x",
        "colab_type": "text"
      },
      "source": [
        "Due to the COVID-19 pandemic, our daily lives were significantly impacted, especially when our second semester went remote. Assuming our text messages would reflect this change, we wanted to see how our texts would look before shelter-in-place, during shelter-in-place, and after summer break started. As a result, we split up our dataset accordingly into three parts. We also had to change the step size for each dataframe in order to keep our number of texts to be around 4000."
      ]
    },
    {
      "cell_type": "code",
      "metadata": {
        "id": "pZALSZqiJnCK",
        "colab_type": "code",
        "colab": {}
      },
      "source": [
        "spring_semester = datetime(2020, 1, 20)\n",
        "covid = datetime(2020, 3, 20)\n",
        "summer_break = datetime(2020, 5, 15)\n",
        "df_precovid = df_total[(df_total['date'] > spring_semester) & (df_total['date'] < covid)].iloc[::2, :]\n",
        "df_postcovid = df_total[(df_total['date'] > covid) & (df_total['date'] < summer_break)].iloc[::3, :]\n",
        "df_summer = df_total[df_total['date'] > summer_break].iloc[::, :]"
      ],
      "execution_count": null,
      "outputs": []
    },
    {
      "cell_type": "markdown",
      "metadata": {
        "id": "g0PUbhCVJh3m",
        "colab_type": "text"
      },
      "source": [
        "###3. Embedding and graphing"
      ]
    },
    {
      "cell_type": "markdown",
      "metadata": {
        "id": "ErYMJaZUJnDe",
        "colab_type": "text"
      },
      "source": [
        "The *embed* function gets embeddings the same way we did for text classification above. The *graph* function then uses the embeddings and authors returned by the *embed* function to plot the texts. The color of each point on the graph is determined by the author."
      ]
    },
    {
      "cell_type": "code",
      "metadata": {
        "id": "3I5ruyWc9zzT",
        "colab_type": "code",
        "colab": {}
      },
      "source": [
        "import pdb\n",
        "\n",
        "def embed(df):\n",
        "  tokenized = df['text'].apply(modified_encoder)\n",
        "  max_len = 0\n",
        "  for i in tokenized.values:\n",
        "    if len(i) > max_len:\n",
        "        max_len = len(i)\n",
        "\n",
        "  padded = np.array([i + [0]*(max_len-len(i)) for i in tokenized.values])\n",
        "\n",
        "  attention_mask = np.where(padded != 0, 1, 0)\n",
        "\n",
        "  input_ids = torch.tensor(padded)  \n",
        "  attention_mask = torch.tensor(attention_mask)\n",
        "  with torch.no_grad():\n",
        "    last_hidden_states = model(input_ids, attention_mask=attention_mask)\n",
        "\n",
        "  features = last_hidden_states[0][:,0,:].numpy()\n",
        "  labels = df['sender']\n",
        "\n",
        "  return features, labels\n"
      ],
      "execution_count": null,
      "outputs": []
    },
    {
      "cell_type": "code",
      "metadata": {
        "id": "0qMGsgYV_AQB",
        "colab_type": "code",
        "colab": {}
      },
      "source": [
        "def graph(points, senders, title):\n",
        "  two_points = TSNE(n_components=2).fit_transform(points)\n",
        "  figure(figsize=(6,6))\n",
        "  for i, sender in enumerate(senders):\n",
        "    if sender == 1:\n",
        "      plt.scatter(two_points[i][0], two_points[i][1], marker='.', c='b')\n",
        "    else:\n",
        "      plt.scatter(two_points[i][0], two_points[i][1], marker='.', c='r')\n",
        "  plt.axis([-120, 120, -120, 120])\n",
        "  plt.title(title)\n",
        "  plt.savefig('postcovid.png')\n",
        "  files.download('postcovid.png')\n",
        "  plt.show()"
      ],
      "execution_count": null,
      "outputs": []
    },
    {
      "cell_type": "code",
      "metadata": {
        "id": "AI5xD3ghCN4m",
        "colab_type": "code",
        "colab": {}
      },
      "source": [
        "features_precovid, labels_precovid = embed(df_precovid)"
      ],
      "execution_count": null,
      "outputs": []
    },
    {
      "cell_type": "code",
      "metadata": {
        "id": "OLTY2SVvMiUa",
        "colab_type": "code",
        "colab": {
          "base_uri": "https://localhost:8080/",
          "height": 390
        },
        "outputId": "caa6cf83-3761-40ad-f9f5-7ed0171255b0"
      },
      "source": [
        "graph(features_precovid, labels_precovid, 'Texts Sent Pre-Quarantine (1/20/20 - 3/19/20)')"
      ],
      "execution_count": null,
      "outputs": [
        {
          "output_type": "display_data",
          "data": {
            "application/javascript": [
              "\n",
              "    async function download(id, filename, size) {\n",
              "      if (!google.colab.kernel.accessAllowed) {\n",
              "        return;\n",
              "      }\n",
              "      const div = document.createElement('div');\n",
              "      const label = document.createElement('label');\n",
              "      label.textContent = `Downloading \"${filename}\": `;\n",
              "      div.appendChild(label);\n",
              "      const progress = document.createElement('progress');\n",
              "      progress.max = size;\n",
              "      div.appendChild(progress);\n",
              "      document.body.appendChild(div);\n",
              "\n",
              "      const buffers = [];\n",
              "      let downloaded = 0;\n",
              "\n",
              "      const channel = await google.colab.kernel.comms.open(id);\n",
              "      // Send a message to notify the kernel that we're ready.\n",
              "      channel.send({})\n",
              "\n",
              "      for await (const message of channel.messages) {\n",
              "        // Send a message to notify the kernel that we're ready.\n",
              "        channel.send({})\n",
              "        if (message.buffers) {\n",
              "          for (const buffer of message.buffers) {\n",
              "            buffers.push(buffer);\n",
              "            downloaded += buffer.byteLength;\n",
              "            progress.value = downloaded;\n",
              "          }\n",
              "        }\n",
              "      }\n",
              "      const blob = new Blob(buffers, {type: 'application/binary'});\n",
              "      const a = document.createElement('a');\n",
              "      a.href = window.URL.createObjectURL(blob);\n",
              "      a.download = filename;\n",
              "      div.appendChild(a);\n",
              "      a.click();\n",
              "      div.remove();\n",
              "    }\n",
              "  "
            ],
            "text/plain": [
              "<IPython.core.display.Javascript object>"
            ]
          },
          "metadata": {
            "tags": []
          }
        },
        {
          "output_type": "display_data",
          "data": {
            "application/javascript": [
              "download(\"download_f8b731a2-2c68-46ee-a250-500ceb7a3980\", \"precovid.png\", 39151)"
            ],
            "text/plain": [
              "<IPython.core.display.Javascript object>"
            ]
          },
          "metadata": {
            "tags": []
          }
        },
        {
          "output_type": "display_data",
          "data": {
            "image/png": "[encoded data removed]",
            "text/plain": [
              "<Figure size 432x432 with 1 Axes>"
            ]
          },
          "metadata": {
            "tags": [],
            "needs_background": "light"
          }
        }
      ]
    },
    {
      "cell_type": "code",
      "metadata": {
        "id": "SyT_J_kMN7jA",
        "colab_type": "code",
        "colab": {}
      },
      "source": [
        "features_postcovid, labels_postcovid = embed(df_postcovid)"
      ],
      "execution_count": null,
      "outputs": []
    },
    {
      "cell_type": "code",
      "metadata": {
        "id": "HrOBu5RxN6bx",
        "colab_type": "code",
        "colab": {
          "base_uri": "https://localhost:8080/",
          "height": 390
        },
        "outputId": "be1ddafe-671c-42c2-d1e8-8a3d136c8441"
      },
      "source": [
        "graph(features_postcovid, labels_postcovid, 'Texts Sent During Quarantine (3/20/20 - 5/15/20)')"
      ],
      "execution_count": null,
      "outputs": [
        {
          "output_type": "display_data",
          "data": {
            "application/javascript": [
              "\n",
              "    async function download(id, filename, size) {\n",
              "      if (!google.colab.kernel.accessAllowed) {\n",
              "        return;\n",
              "      }\n",
              "      const div = document.createElement('div');\n",
              "      const label = document.createElement('label');\n",
              "      label.textContent = `Downloading \"${filename}\": `;\n",
              "      div.appendChild(label);\n",
              "      const progress = document.createElement('progress');\n",
              "      progress.max = size;\n",
              "      div.appendChild(progress);\n",
              "      document.body.appendChild(div);\n",
              "\n",
              "      const buffers = [];\n",
              "      let downloaded = 0;\n",
              "\n",
              "      const channel = await google.colab.kernel.comms.open(id);\n",
              "      // Send a message to notify the kernel that we're ready.\n",
              "      channel.send({})\n",
              "\n",
              "      for await (const message of channel.messages) {\n",
              "        // Send a message to notify the kernel that we're ready.\n",
              "        channel.send({})\n",
              "        if (message.buffers) {\n",
              "          for (const buffer of message.buffers) {\n",
              "            buffers.push(buffer);\n",
              "            downloaded += buffer.byteLength;\n",
              "            progress.value = downloaded;\n",
              "          }\n",
              "        }\n",
              "      }\n",
              "      const blob = new Blob(buffers, {type: 'application/binary'});\n",
              "      const a = document.createElement('a');\n",
              "      a.href = window.URL.createObjectURL(blob);\n",
              "      a.download = filename;\n",
              "      div.appendChild(a);\n",
              "      a.click();\n",
              "      div.remove();\n",
              "    }\n",
              "  "
            ],
            "text/plain": [
              "<IPython.core.display.Javascript object>"
            ]
          },
          "metadata": {
            "tags": []
          }
        },
        {
          "output_type": "display_data",
          "data": {
            "application/javascript": [
              "download(\"download_8cc43fbb-312b-4455-aeea-0eef5ba646eb\", \"covid.png\", 39790)"
            ],
            "text/plain": [
              "<IPython.core.display.Javascript object>"
            ]
          },
          "metadata": {
            "tags": []
          }
        },
        {
          "output_type": "display_data",
          "data": {
            "image/png": "[encoded data removed]",
            "text/plain": [
              "<Figure size 432x432 with 1 Axes>"
            ]
          },
          "metadata": {
            "tags": [],
            "needs_background": "light"
          }
        }
      ]
    },
    {
      "cell_type": "code",
      "metadata": {
        "id": "BMBE_a80TZUC",
        "colab_type": "code",
        "colab": {}
      },
      "source": [
        "features_summer, labels_summer = embed(df_summer)"
      ],
      "execution_count": null,
      "outputs": []
    },
    {
      "cell_type": "code",
      "metadata": {
        "id": "Jbc-KiqaUW0Q",
        "colab_type": "code",
        "colab": {
          "base_uri": "https://localhost:8080/",
          "height": 390
        },
        "outputId": "702c132b-8386-49d7-8d69-937614edde2f"
      },
      "source": [
        "graph(features_summer, labels_summer, 'Texts Sent During Summer Break (5/15/20 - Present)')"
      ],
      "execution_count": null,
      "outputs": [
        {
          "output_type": "display_data",
          "data": {
            "application/javascript": [
              "\n",
              "    async function download(id, filename, size) {\n",
              "      if (!google.colab.kernel.accessAllowed) {\n",
              "        return;\n",
              "      }\n",
              "      const div = document.createElement('div');\n",
              "      const label = document.createElement('label');\n",
              "      label.textContent = `Downloading \"${filename}\": `;\n",
              "      div.appendChild(label);\n",
              "      const progress = document.createElement('progress');\n",
              "      progress.max = size;\n",
              "      div.appendChild(progress);\n",
              "      document.body.appendChild(div);\n",
              "\n",
              "      const buffers = [];\n",
              "      let downloaded = 0;\n",
              "\n",
              "      const channel = await google.colab.kernel.comms.open(id);\n",
              "      // Send a message to notify the kernel that we're ready.\n",
              "      channel.send({})\n",
              "\n",
              "      for await (const message of channel.messages) {\n",
              "        // Send a message to notify the kernel that we're ready.\n",
              "        channel.send({})\n",
              "        if (message.buffers) {\n",
              "          for (const buffer of message.buffers) {\n",
              "            buffers.push(buffer);\n",
              "            downloaded += buffer.byteLength;\n",
              "            progress.value = downloaded;\n",
              "          }\n",
              "        }\n",
              "      }\n",
              "      const blob = new Blob(buffers, {type: 'application/binary'});\n",
              "      const a = document.createElement('a');\n",
              "      a.href = window.URL.createObjectURL(blob);\n",
              "      a.download = filename;\n",
              "      div.appendChild(a);\n",
              "      a.click();\n",
              "      div.remove();\n",
              "    }\n",
              "  "
            ],
            "text/plain": [
              "<IPython.core.display.Javascript object>"
            ]
          },
          "metadata": {
            "tags": []
          }
        },
        {
          "output_type": "display_data",
          "data": {
            "application/javascript": [
              "download(\"download_b2bacc31-fc70-4bb9-bffc-4aea31fffd21\", \"postcovid.png\", 41242)"
            ],
            "text/plain": [
              "<IPython.core.display.Javascript object>"
            ]
          },
          "metadata": {
            "tags": []
          }
        },
        {
          "output_type": "display_data",
          "data": {
            "image/png": "[encoded data removed]",
            "text/plain": [
              "<Figure size 432x432 with 1 Axes>"
            ]
          },
          "metadata": {
            "tags": [],
            "needs_background": "light"
          }
        }
      ]
    },
    {
      "cell_type": "markdown",
      "metadata": {
        "id": "8bvZKt_8Kqpw",
        "colab_type": "text"
      },
      "source": [
        "We found our results to be really interesting, especially because of the differences between the three plots. The points on the first and second graph have a much lower spread compared to the third graph. We reasoned that this is because the subject of our text messages, similar to our daily activities, became less restrained after school ended. The spread of the first and second graph are fairly similar, however the second graph is slightly more compact and the red and blue texts are less differentiable. We think this likely reflects the way Covid-19 made our daily lives even more similar than they were at Berkeley (same major, classes, dorms), the most significant similarity being quarantine."
      ]
    },
    {
      "cell_type": "markdown",
      "metadata": {
        "id": "dpfO92RGx_U4",
        "colab_type": "text"
      },
      "source": [
        "##Part 3: Finding Word Similarity"
      ]
    },
    {
      "cell_type": "markdown",
      "metadata": {
        "id": "5g3006F0lb71",
        "colab_type": "text"
      },
      "source": [
        "In order to match words with similar meanings to each other, we created a cosine similarity matrix. This symmetric matrix included the cosine similarity calculation of every word to every other word. "
      ]
    },
    {
      "cell_type": "markdown",
      "metadata": {
        "id": "iRvb4wJmmDVZ",
        "colab_type": "text"
      },
      "source": [
        "We imported the cosine_similarity package from the sklearn.metrics.pairwise library in order to calculate the cosine similarity. "
      ]
    },
    {
      "cell_type": "code",
      "metadata": {
        "id": "X00hb7dLoCod",
        "colab_type": "code",
        "colab": {}
      },
      "source": [
        "from sklearn.metrics.pairwise import cosine_similarity"
      ],
      "execution_count": null,
      "outputs": []
    },
    {
      "cell_type": "markdown",
      "metadata": {
        "id": "jNrN2OaqmIhy",
        "colab_type": "text"
      },
      "source": [
        "We adjusted our data cleaning to include text messages sent to us as well as our own. "
      ]
    },
    {
      "cell_type": "code",
      "metadata": {
        "id": "xyLRClQURuM9",
        "colab_type": "code",
        "colab": {}
      },
      "source": [
        "import json\n",
        "with open('merged_file.json') as json_data:\n",
        "  data = json.load(json_data)\n",
        "  df_nisha_all = pd.DataFrame() \n",
        "  for dictionary in data[0]:     \n",
        "    df_new = addtoDfFirst(dictionary, True)\n",
        "    df = df_nisha_all.append(df_new, ignore_index=True)\n",
        "    df_nisha_all = df\n",
        "  for i in range(1, len(data)): \n",
        "    df_new = addtoDf(data[i], True)\n",
        "    df = df_nisha_all.append(df_new, ignore_index=True)\n",
        "    df_nisha_all = df"
      ],
      "execution_count": null,
      "outputs": []
    },
    {
      "cell_type": "code",
      "metadata": {
        "id": "JdwWn-T5SQCZ",
        "colab_type": "code",
        "colab": {}
      },
      "source": [
        "del df_nisha_all['sender_name']\n",
        "del df_nisha_all['timestamp_ms']\n",
        "df_nisha_all.columns=['text']\n",
        "df_nisha_all.head()"
      ],
      "execution_count": null,
      "outputs": []
    },
    {
      "cell_type": "code",
      "metadata": {
        "id": "kCMhDm6pSnIn",
        "colab_type": "code",
        "colab": {}
      },
      "source": [
        "dropped = []\n",
        "for index, row in df_nisha_all.iterrows():\n",
        "  if not isinstance(row['text'], str):\n",
        "    dropped.append(index)\n",
        "\n",
        "df_nisha_all = df_nisha_all.drop(dropped)"
      ],
      "execution_count": null,
      "outputs": []
    },
    {
      "cell_type": "code",
      "metadata": {
        "id": "eBNbO_HFyLE7",
        "colab_type": "code",
        "colab": {}
      },
      "source": [
        "uploaded_reena_all = files.upload()"
      ],
      "execution_count": null,
      "outputs": []
    },
    {
      "cell_type": "code",
      "metadata": {
        "id": "PUABGRquyiLU",
        "colab_type": "code",
        "colab": {}
      },
      "source": [
        "df_reena_all = pd.read_csv(io.StringIO(uploaded_reena_all['allreena.csv'].decode('utf-8', 'ignore')), error_bad_lines=False, names=['text', 'date'])"
      ],
      "execution_count": null,
      "outputs": []
    },
    {
      "cell_type": "code",
      "metadata": {
        "id": "ut1v5VYSykKN",
        "colab_type": "code",
        "colab": {}
      },
      "source": [
        "dropped = []\n",
        "for index, row in df_reena_all.iterrows():\n",
        "  if not isinstance(row['text'], str):\n",
        "    dropped.append(index)\n",
        "  elif len(row['text']) == 1:\n",
        "    dropped.append(index)\n",
        "\n",
        "df_reena_all = df_reena_all.drop(dropped)"
      ],
      "execution_count": null,
      "outputs": []
    },
    {
      "cell_type": "code",
      "metadata": {
        "id": "W9ydIG3DyrM1",
        "colab_type": "code",
        "colab": {}
      },
      "source": [
        "del df_reena_all['date']"
      ],
      "execution_count": null,
      "outputs": []
    },
    {
      "cell_type": "code",
      "metadata": {
        "id": "goV3_REHU47h",
        "colab_type": "code",
        "colab": {}
      },
      "source": [
        "df_master = df_reena_all.append(df_nisha_all)"
      ],
      "execution_count": null,
      "outputs": []
    },
    {
      "cell_type": "code",
      "metadata": {
        "id": "zh-JHU5hVH3W",
        "colab_type": "code",
        "colab": {}
      },
      "source": [
        "df_master.head()"
      ],
      "execution_count": null,
      "outputs": []
    },
    {
      "cell_type": "markdown",
      "metadata": {
        "id": "GXLFgkqvmhdX",
        "colab_type": "text"
      },
      "source": [
        "We added slang to the tokenizer's default vocab so that our analysis would be more accurate. Below, we can see that the tokenizer has 30,537 words in its vocabulary. "
      ]
    },
    {
      "cell_type": "code",
      "metadata": {
        "id": "PRjZzzv_2fw_",
        "colab_type": "code",
        "colab": {
          "base_uri": "https://localhost:8080/",
          "height": 34
        },
        "outputId": "6a7fcc10-3087-4cf8-a55d-faec60b17b91"
      },
      "source": [
        "len(tokenizer.get_vocab()) "
      ],
      "execution_count": null,
      "outputs": [
        {
          "output_type": "execute_result",
          "data": {
            "text/plain": [
              "30522"
            ]
          },
          "metadata": {
            "tags": []
          },
          "execution_count": 12
        }
      ]
    },
    {
      "cell_type": "code",
      "metadata": {
        "id": "9VfgE6Qm2qK2",
        "colab_type": "code",
        "colab": {
          "base_uri": "https://localhost:8080/",
          "height": 34
        },
        "outputId": "eda731d7-5938-4cf3-d2b6-f532ed5e9203"
      },
      "source": [
        "tokenizer.add_tokens(['bruh', 'glowed up', 'highkey', 'flex', 'finesse', 'bougie', 'cringey','thicc', \n",
        "                      'fam', 'lit', 'lowkey', 'oof', 'slaps', 'stan', 'squad', 'sus', 'vibin', 'vibes', 'yeet', 'bro', 'dude'])"
      ],
      "execution_count": null,
      "outputs": [
        {
          "output_type": "execute_result",
          "data": {
            "text/plain": [
              "15"
            ]
          },
          "metadata": {
            "tags": []
          },
          "execution_count": 21
        }
      ]
    },
    {
      "cell_type": "code",
      "metadata": {
        "id": "pVFSIB-f--Q0",
        "colab_type": "code",
        "colab": {
          "base_uri": "https://localhost:8080/",
          "height": 34
        },
        "outputId": "953f5f28-d802-4052-c3dd-52a0fc95fe98"
      },
      "source": [
        "model.resize_token_embeddings(len(tokenizer)) "
      ],
      "execution_count": null,
      "outputs": [
        {
          "output_type": "execute_result",
          "data": {
            "text/plain": [
              "Embedding(30537, 768)"
            ]
          },
          "metadata": {
            "tags": []
          },
          "execution_count": 22
        }
      ]
    },
    {
      "cell_type": "code",
      "metadata": {
        "id": "gHsyGyYiGLn5",
        "colab_type": "code",
        "colab": {
          "base_uri": "https://localhost:8080/",
          "height": 34
        },
        "outputId": "7cc949eb-7869-47d6-f47b-64e753c4dddc"
      },
      "source": [
        "len(tokenizer.get_vocab())"
      ],
      "execution_count": null,
      "outputs": [
        {
          "output_type": "execute_result",
          "data": {
            "text/plain": [
              "30537"
            ]
          },
          "metadata": {
            "tags": []
          },
          "execution_count": 14
        }
      ]
    },
    {
      "cell_type": "markdown",
      "metadata": {
        "id": "vFSezW8wm6CW",
        "colab_type": "text"
      },
      "source": [
        "We slightly modified our previous embedding methodology to have it return the embeddings for every word, instead of just the sentence token. "
      ]
    },
    {
      "cell_type": "code",
      "metadata": {
        "id": "z5M9QFjRpxgW",
        "colab_type": "code",
        "colab": {}
      },
      "source": [
        "def embed_words(df):\n",
        "  tokenized = df['text'].apply(modified_encoder)\n",
        "  max_len = 0\n",
        "  for i in tokenized.values:\n",
        "    if len(i) > max_len:\n",
        "        max_len = len(i)\n",
        "  padded = np.array([i + [0]*(max_len-len(i)) for i in tokenized.values])\n",
        "  attention_mask = np.where(padded != 0, 1, 0)\n",
        "  input_ids = torch.tensor(padded)  \n",
        "  attention_mask = torch.tensor(attention_mask)\n",
        "  with torch.no_grad():\n",
        "    last_hidden_states = model(input_ids, attention_mask=attention_mask)\n",
        "\n",
        "  return last_hidden_states[0]"
      ],
      "execution_count": null,
      "outputs": []
    },
    {
      "cell_type": "code",
      "metadata": {
        "id": "N6URC15BjuPn",
        "colab_type": "code",
        "colab": {
          "base_uri": "https://localhost:8080/",
          "height": 35
        },
        "outputId": "89050653-cc2d-42db-a738-81e542fe5ccc"
      },
      "source": [
        "import tensorflow as tf\n",
        "tf.test.gpu_device_name()"
      ],
      "execution_count": null,
      "outputs": [
        {
          "output_type": "execute_result",
          "data": {
            "application/vnd.google.colaboratory.intrinsic+json": {
              "type": "string"
            },
            "text/plain": [
              "'/device:GPU:0'"
            ]
          },
          "metadata": {
            "tags": []
          },
          "execution_count": 13
        }
      ]
    },
    {
      "cell_type": "markdown",
      "metadata": {
        "id": "mlibwjX1nGJ7",
        "colab_type": "text"
      },
      "source": [
        "We cut down our dataframe so that we could run it in a reasonable amount of time. "
      ]
    },
    {
      "cell_type": "code",
      "metadata": {
        "id": "zDCSmZ4H4YS0",
        "colab_type": "code",
        "colab": {}
      },
      "source": [
        "df_master_short = df_master[::3]"
      ],
      "execution_count": null,
      "outputs": []
    },
    {
      "cell_type": "markdown",
      "metadata": {
        "id": "iMzkVkECnLrJ",
        "colab_type": "text"
      },
      "source": [
        "We embedded our texts in batches so that there would be enough RAM in our environment to run without crashing. "
      ]
    },
    {
      "cell_type": "code",
      "metadata": {
        "id": "_dq-t82wD1fr",
        "colab_type": "code",
        "colab": {}
      },
      "source": [
        "start = 0\n",
        "end = len(df_master_short.index)//10\n",
        "jump = end \n",
        "embeddings = []\n",
        "for i in range(5): \n",
        "  print(i)\n",
        "  df_master_temp = df_master_short.iloc[start:end]\n",
        "  embeddings_temp = embed_words(df_master_temp)\n",
        "  start = end\n",
        "  end = end + jump\n",
        "  embeddings.extend(embeddings_temp)"
      ],
      "execution_count": null,
      "outputs": []
    },
    {
      "cell_type": "code",
      "metadata": {
        "id": "YZe8kujj47MQ",
        "colab_type": "code",
        "colab": {}
      },
      "source": [
        "for i in range(5): \n",
        "  print(i)\n",
        "  df_master_temp = df_master_short.iloc[start:end]\n",
        "  embeddings_temp = embed_words(df_master_temp)\n",
        "  start = end\n",
        "  end = end + jump\n",
        "  embeddings.extend(embeddings_temp)"
      ],
      "execution_count": null,
      "outputs": []
    },
    {
      "cell_type": "markdown",
      "metadata": {
        "id": "gXHOYSni-2Xw",
        "colab_type": "text"
      },
      "source": [
        "*index_finder* finds the index of a word in a tokenized sentence. We did not include tokens that were in indices above 50. "
      ]
    },
    {
      "cell_type": "code",
      "metadata": {
        "id": "tRzsbkmYFECA",
        "colab_type": "code",
        "colab": {}
      },
      "source": [
        "def index_finder(word, sentence): \n",
        "  tokenized = tokenizer.tokenize(sentence)\n",
        "  if word.lower() in tokenized and tokenized.index(word.lower()) < 50:\n",
        "    return tokenized.index(word.lower())"
      ],
      "execution_count": null,
      "outputs": []
    },
    {
      "cell_type": "code",
      "metadata": {
        "id": "yatDXBhZ0PMz",
        "colab_type": "code",
        "colab": {}
      },
      "source": [
        "# Returns a list of all the appearances of VALUE in LST\n",
        "def get_all_indices(lst, value):  \n",
        "  indices = []\n",
        "  for i in range(len(lst)):\n",
        "    if (lst[i] == value):\n",
        "      indices.append(i)\n",
        "  return indices"
      ],
      "execution_count": null,
      "outputs": []
    },
    {
      "cell_type": "markdown",
      "metadata": {
        "id": "IDGoo5hV_dkD",
        "colab_type": "text"
      },
      "source": [
        "Because there were multiple embeddings for words in different contexts, we decided to average each element of the embedding to come up with one embedding per word. "
      ]
    },
    {
      "cell_type": "code",
      "metadata": {
        "id": "jxdEsSVF2zVb",
        "colab_type": "code",
        "colab": {}
      },
      "source": [
        "def average_embeddings(embeddings):  \n",
        "  average=[]\n",
        "  if len(embeddings) == 1:  \n",
        "    return embeddings[0] \n",
        "  for i in range(768):\n",
        "    sum = 0\n",
        "    for j in range(len(embeddings)):\n",
        "      sum += embeddings[j][i]\n",
        "    average.append(sum/len(embeddings))\n",
        "  return average"
      ],
      "execution_count": null,
      "outputs": []
    },
    {
      "cell_type": "markdown",
      "metadata": {
        "id": "VO2zXHUb_0Rb",
        "colab_type": "text"
      },
      "source": [
        "The code below creates a unique list of words in our messages, correlating to a list of averaged embeddings of those words. "
      ]
    },
    {
      "cell_type": "code",
      "metadata": {
        "id": "M52XuCBTg6JC",
        "colab_type": "code",
        "colab": {}
      },
      "source": [
        "all_embeddings = [] #list of all the embeddings \n",
        "all_words = [] #list of all the words including repeats \n",
        "ind = 0 #index \n",
        "\n",
        "for index, row in df_master_short.iterrows():\n",
        "  sentence = row['text']  \n",
        "  if not isinstance(row['text'], str):\n",
        "    continue\n",
        "  sentence_lst = sentence.split()\n",
        "  for word in sentence_lst:\n",
        "    token_index = index_finder(word, sentence)\n",
        "    if token_index is not None:  \n",
        "      all_words.append(word.lower())\n",
        "      all_embeddings.append(embeddings[ind][token_index])\n",
        "  ind+=1\n",
        "    \n",
        "new_embeddings = [] #unique set of embeddings \n",
        "words = [] #unique set of words \n",
        "\n",
        "for index, word in enumerate(all_words):\n",
        "  if (word not in words):\n",
        "    all_indices = get_all_indices(all_words, word) # all the other indices of a word in the all_words list \n",
        "    tensors = [] # a list of all the embeddings for a certain word \n",
        "    for i in range(len(all_indices)):\n",
        "      tensors.append(all_embeddings[i].numpy()) # tensors is a list of embeddings \n",
        "    words.append(word) # append the word to the word list \n",
        "    new_embeddings.append(average_embeddings(tensors)) "
      ],
      "execution_count": null,
      "outputs": []
    },
    {
      "cell_type": "markdown",
      "metadata": {
        "id": "z3BO4DFiABKt",
        "colab_type": "text"
      },
      "source": [
        "The *cosine_similarity* method takes the two axes of the matrix (in our case, both are the list of embeddings for each word), and outputs a matrix with the cosine similarity values. "
      ]
    },
    {
      "cell_type": "code",
      "metadata": {
        "id": "n1ILuH2-2RcY",
        "colab_type": "code",
        "colab": {}
      },
      "source": [
        "similarity_matrix = cosine_similarity(new_embeddings, new_embeddings)"
      ],
      "execution_count": null,
      "outputs": []
    },
    {
      "cell_type": "markdown",
      "metadata": {
        "id": "_CmM0sNyAOqT",
        "colab_type": "text"
      },
      "source": [
        "*similar_words* takes in a word, and if that word was used in our text bank, outputs a list of the 5 most similar words. "
      ]
    },
    {
      "cell_type": "code",
      "metadata": {
        "id": "vNRBcrrc4pj7",
        "colab_type": "code",
        "colab": {}
      },
      "source": [
        "def similar_words(word):\n",
        "  word_index = get_all_indices(words, word)\n",
        "  if word_index == []:\n",
        "    print(\"word not in texts\")\n",
        "    return\n",
        "  top_sim = [-1, -2, -3, -4, -5]\n",
        "  top_words = [\"\", \"\", \"\", \"\", \"\"]\n",
        "  sim_row = similarity_matrix[word_index[0]]\n",
        "  for i in range(len(similarity_matrix)):\n",
        "    if sim_row[i] > min(top_sim) and words[i] != word:\n",
        "      min_index = top_sim.index(min(top_sim))\n",
        "      top_sim[min_index] = sim_row[i]\n",
        "      top_words[min_index] = words[i]\n",
        "  return top_words"
      ],
      "execution_count": null,
      "outputs": []
    },
    {
      "cell_type": "code",
      "metadata": {
        "id": "D_b0BAUs60on",
        "colab_type": "code",
        "colab": {
          "base_uri": "https://localhost:8080/",
          "height": 34
        },
        "outputId": "fc304248-827d-4305-86a1-0e2e312ed296"
      },
      "source": [
        "similar_words(\"dude\") # Example of calling the similar_words method "
      ],
      "execution_count": null,
      "outputs": [
        {
          "output_type": "execute_result",
          "data": {
            "text/plain": [
              "['else', 'always', 'wanted', 'anna', 'use']"
            ]
          },
          "metadata": {
            "tags": []
          },
          "execution_count": 70
        }
      ]
    },
    {
      "cell_type": "markdown",
      "metadata": {
        "id": "O1BjooSbhP03",
        "colab_type": "text"
      },
      "source": [
        "### Examples of *similar_words* results \n",
        "##### word -> list of 5 similar words (in no particular order)\n",
        "\n",
        "*   lowkey -> ['ik', 'v', 'pay', 'afternoon', 'wake']      \n",
        "*   chair -> ['kelsey', 'tables', 'lock', 'reality', 'fifty']       \n",
        "*   sus -> ['100', 'everywhere', 'cheaper', 'whose', 'racist']      \n",
        "*   game -> ['hang', 'believe', 'knew', 'hit', '”']        \n",
        "*   school -> ['stuff', 'done', 'went', 'fuck', 'things']        \n",
        "*   hana -> ['busy', 'god', 'hot', 'able', 'figure']\n",
        "\n",
        "\n",
        "\n",
        "\n",
        "\n",
        "\n"
      ]
    }
  ]
}